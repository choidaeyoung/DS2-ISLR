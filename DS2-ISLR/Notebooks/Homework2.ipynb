{
 "cells": [
  {
   "cell_type": "code",
   "execution_count": 1,
   "metadata": {
    "collapsed": true
   },
   "outputs": [],
   "source": [
    "# %load ../standard_import.txt\n",
    "import pandas as pd\n",
    "import numpy as np\n",
    "import matplotlib as mpl\n",
    "import matplotlib.pyplot as plt\n",
    "import seaborn as sns\n",
    "\n",
    "import sklearn.linear_model as skl_lm\n",
    "from sklearn.discriminant_analysis import LinearDiscriminantAnalysis\n",
    "from sklearn.discriminant_analysis import QuadraticDiscriminantAnalysis\n",
    "from sklearn.metrics import confusion_matrix, classification_report, precision_score\n",
    "from sklearn import preprocessing\n",
    "from sklearn import neighbors\n",
    "from sklearn.decomposition import PCA\n",
    "from sklearn.preprocessing import scale \n",
    "from sklearn.ensemble import BaggingClassifier, RandomForestClassifier, BaggingRegressor, RandomForestRegressor, GradientBoostingRegressor\n",
    "from sklearn.metrics import mean_squared_error,confusion_matrix, classification_report\n",
    "\n",
    "import statsmodels.api as sm\n",
    "import statsmodels.formula.api as smf\n",
    "\n",
    "%matplotlib inline\n",
    "plt.style.use('seaborn-white')"
   ]
  },
  {
   "cell_type": "markdown",
   "metadata": {},
   "source": [
    "## load and pre-process data"
   ]
  },
  {
   "cell_type": "code",
   "execution_count": 2,
   "metadata": {},
   "outputs": [
    {
     "data": {
      "text/html": [
       "<div>\n",
       "<table border=\"1\" class=\"dataframe\">\n",
       "  <thead>\n",
       "    <tr style=\"text-align: right;\">\n",
       "      <th></th>\n",
       "      <th>Unnamed: 0</th>\n",
       "      <th>Year</th>\n",
       "      <th>Lag1</th>\n",
       "      <th>Lag2</th>\n",
       "      <th>Lag3</th>\n",
       "      <th>Lag4</th>\n",
       "      <th>Lag5</th>\n",
       "      <th>Volume</th>\n",
       "      <th>Today</th>\n",
       "      <th>Direction</th>\n",
       "      <th>Direction2</th>\n",
       "    </tr>\n",
       "  </thead>\n",
       "  <tbody>\n",
       "    <tr>\n",
       "      <th>0</th>\n",
       "      <td>1</td>\n",
       "      <td>2001</td>\n",
       "      <td>0.381</td>\n",
       "      <td>-0.192</td>\n",
       "      <td>-2.624</td>\n",
       "      <td>-1.055</td>\n",
       "      <td>5.010</td>\n",
       "      <td>1.1913</td>\n",
       "      <td>0.959</td>\n",
       "      <td>Up</td>\n",
       "      <td>1.0</td>\n",
       "    </tr>\n",
       "    <tr>\n",
       "      <th>1</th>\n",
       "      <td>2</td>\n",
       "      <td>2001</td>\n",
       "      <td>0.959</td>\n",
       "      <td>0.381</td>\n",
       "      <td>-0.192</td>\n",
       "      <td>-2.624</td>\n",
       "      <td>-1.055</td>\n",
       "      <td>1.2965</td>\n",
       "      <td>1.032</td>\n",
       "      <td>Up</td>\n",
       "      <td>1.0</td>\n",
       "    </tr>\n",
       "    <tr>\n",
       "      <th>2</th>\n",
       "      <td>3</td>\n",
       "      <td>2001</td>\n",
       "      <td>1.032</td>\n",
       "      <td>0.959</td>\n",
       "      <td>0.381</td>\n",
       "      <td>-0.192</td>\n",
       "      <td>-2.624</td>\n",
       "      <td>1.4112</td>\n",
       "      <td>-0.623</td>\n",
       "      <td>Down</td>\n",
       "      <td>0.0</td>\n",
       "    </tr>\n",
       "    <tr>\n",
       "      <th>3</th>\n",
       "      <td>4</td>\n",
       "      <td>2001</td>\n",
       "      <td>-0.623</td>\n",
       "      <td>1.032</td>\n",
       "      <td>0.959</td>\n",
       "      <td>0.381</td>\n",
       "      <td>-0.192</td>\n",
       "      <td>1.2760</td>\n",
       "      <td>0.614</td>\n",
       "      <td>Up</td>\n",
       "      <td>1.0</td>\n",
       "    </tr>\n",
       "    <tr>\n",
       "      <th>4</th>\n",
       "      <td>5</td>\n",
       "      <td>2001</td>\n",
       "      <td>0.614</td>\n",
       "      <td>-0.623</td>\n",
       "      <td>1.032</td>\n",
       "      <td>0.959</td>\n",
       "      <td>0.381</td>\n",
       "      <td>1.2057</td>\n",
       "      <td>0.213</td>\n",
       "      <td>Up</td>\n",
       "      <td>1.0</td>\n",
       "    </tr>\n",
       "    <tr>\n",
       "      <th>5</th>\n",
       "      <td>6</td>\n",
       "      <td>2001</td>\n",
       "      <td>0.213</td>\n",
       "      <td>0.614</td>\n",
       "      <td>-0.623</td>\n",
       "      <td>1.032</td>\n",
       "      <td>0.959</td>\n",
       "      <td>1.3491</td>\n",
       "      <td>1.392</td>\n",
       "      <td>Up</td>\n",
       "      <td>1.0</td>\n",
       "    </tr>\n",
       "    <tr>\n",
       "      <th>6</th>\n",
       "      <td>7</td>\n",
       "      <td>2001</td>\n",
       "      <td>1.392</td>\n",
       "      <td>0.213</td>\n",
       "      <td>0.614</td>\n",
       "      <td>-0.623</td>\n",
       "      <td>1.032</td>\n",
       "      <td>1.4450</td>\n",
       "      <td>-0.403</td>\n",
       "      <td>Down</td>\n",
       "      <td>0.0</td>\n",
       "    </tr>\n",
       "    <tr>\n",
       "      <th>7</th>\n",
       "      <td>8</td>\n",
       "      <td>2001</td>\n",
       "      <td>-0.403</td>\n",
       "      <td>1.392</td>\n",
       "      <td>0.213</td>\n",
       "      <td>0.614</td>\n",
       "      <td>-0.623</td>\n",
       "      <td>1.4078</td>\n",
       "      <td>0.027</td>\n",
       "      <td>Up</td>\n",
       "      <td>1.0</td>\n",
       "    </tr>\n",
       "    <tr>\n",
       "      <th>8</th>\n",
       "      <td>9</td>\n",
       "      <td>2001</td>\n",
       "      <td>0.027</td>\n",
       "      <td>-0.403</td>\n",
       "      <td>1.392</td>\n",
       "      <td>0.213</td>\n",
       "      <td>0.614</td>\n",
       "      <td>1.1640</td>\n",
       "      <td>1.303</td>\n",
       "      <td>Up</td>\n",
       "      <td>1.0</td>\n",
       "    </tr>\n",
       "    <tr>\n",
       "      <th>9</th>\n",
       "      <td>10</td>\n",
       "      <td>2001</td>\n",
       "      <td>1.303</td>\n",
       "      <td>0.027</td>\n",
       "      <td>-0.403</td>\n",
       "      <td>1.392</td>\n",
       "      <td>0.213</td>\n",
       "      <td>1.2326</td>\n",
       "      <td>0.287</td>\n",
       "      <td>Up</td>\n",
       "      <td>1.0</td>\n",
       "    </tr>\n",
       "  </tbody>\n",
       "</table>\n",
       "</div>"
      ],
      "text/plain": [
       "   Unnamed: 0  Year   Lag1   Lag2   Lag3   Lag4   Lag5  Volume  Today  \\\n",
       "0           1  2001  0.381 -0.192 -2.624 -1.055  5.010  1.1913  0.959   \n",
       "1           2  2001  0.959  0.381 -0.192 -2.624 -1.055  1.2965  1.032   \n",
       "2           3  2001  1.032  0.959  0.381 -0.192 -2.624  1.4112 -0.623   \n",
       "3           4  2001 -0.623  1.032  0.959  0.381 -0.192  1.2760  0.614   \n",
       "4           5  2001  0.614 -0.623  1.032  0.959  0.381  1.2057  0.213   \n",
       "5           6  2001  0.213  0.614 -0.623  1.032  0.959  1.3491  1.392   \n",
       "6           7  2001  1.392  0.213  0.614 -0.623  1.032  1.4450 -0.403   \n",
       "7           8  2001 -0.403  1.392  0.213  0.614 -0.623  1.4078  0.027   \n",
       "8           9  2001  0.027 -0.403  1.392  0.213  0.614  1.1640  1.303   \n",
       "9          10  2001  1.303  0.027 -0.403  1.392  0.213  1.2326  0.287   \n",
       "\n",
       "  Direction  Direction2  \n",
       "0        Up         1.0  \n",
       "1        Up         1.0  \n",
       "2      Down         0.0  \n",
       "3        Up         1.0  \n",
       "4        Up         1.0  \n",
       "5        Up         1.0  \n",
       "6      Down         0.0  \n",
       "7        Up         1.0  \n",
       "8        Up         1.0  \n",
       "9        Up         1.0  "
      ]
     },
     "execution_count": 2,
     "metadata": {},
     "output_type": "execute_result"
    }
   ],
   "source": [
    "# load data from csv\n",
    "df = pd.read_csv('../Data/Smarket.csv')\n",
    "\n",
    "# convert string to numeric for logistic regression\n",
    "df.loc[df.Direction == 'Up', 'Direction2'] = 1\n",
    "df.loc[df.Direction == 'Down', 'Direction2'] = 0\n",
    "\n",
    "df.head(10)"
   ]
  },
  {
   "cell_type": "markdown",
   "metadata": {},
   "source": [
    "## 5-folds cross validation"
   ]
  },
  {
   "cell_type": "code",
   "execution_count": 3,
   "metadata": {},
   "outputs": [
    {
     "name": "stdout",
     "output_type": "stream",
     "text": [
      "Optimization terminated successfully.\n",
      "         Current function value: 0.689210\n",
      "         Iterations 4\n",
      "--------------------- validation == 2001 ---------------------\n",
      "True        Down  Up\n",
      "Prediction          \n",
      "Down          37  37\n",
      "Up            88  80\n",
      "Optimization terminated successfully.\n",
      "         Current function value: 0.689089\n",
      "         Iterations 4\n"
     ]
    },
    {
     "name": "stderr",
     "output_type": "stream",
     "text": [
      "/usr/local/lib/python2.7/dist-packages/ipykernel_launcher.py:13: SettingWithCopyWarning: \n",
      "A value is trying to be set on a copy of a slice from a DataFrame.\n",
      "Try using .loc[row_indexer,col_indexer] = value instead\n",
      "\n",
      "See the caveats in the documentation: http://pandas.pydata.org/pandas-docs/stable/indexing.html#indexing-view-versus-copy\n",
      "  del sys.path[0]\n",
      "/usr/local/lib/python2.7/dist-packages/ipykernel_launcher.py:14: SettingWithCopyWarning: \n",
      "A value is trying to be set on a copy of a slice from a DataFrame.\n",
      "Try using .loc[row_indexer,col_indexer] = value instead\n",
      "\n",
      "See the caveats in the documentation: http://pandas.pydata.org/pandas-docs/stable/indexing.html#indexing-view-versus-copy\n",
      "  \n",
      "/usr/local/lib/python2.7/dist-packages/pandas/core/indexing.py:477: SettingWithCopyWarning: \n",
      "A value is trying to be set on a copy of a slice from a DataFrame.\n",
      "Try using .loc[row_indexer,col_indexer] = value instead\n",
      "\n",
      "See the caveats in the documentation: http://pandas.pydata.org/pandas-docs/stable/indexing.html#indexing-view-versus-copy\n",
      "  self.obj[item] = s\n"
     ]
    },
    {
     "name": "stdout",
     "output_type": "stream",
     "text": [
      "--------------------- validation == 2002 ---------------------\n",
      "True        Down  Up\n",
      "Prediction          \n",
      "Down          21  15\n",
      "Up           119  97\n",
      "Optimization terminated successfully.\n",
      "         Current function value: 0.690123\n",
      "         Iterations 4\n",
      "--------------------- validation == 2003 ---------------------\n",
      "True        Down  Up\n",
      "Prediction          \n",
      "Down          45  71\n",
      "Up            69  67\n",
      "Optimization terminated successfully.\n",
      "         Current function value: 0.691252\n",
      "         Iterations 4\n",
      "--------------------- validation == 2004 ---------------------\n",
      "True        Down  Up\n",
      "Prediction          \n",
      "Down          48  58\n",
      "Up            64  82\n",
      "Optimization terminated successfully.\n",
      "         Current function value: 0.691936\n",
      "         Iterations 4\n",
      "--------------------- validation == 2005 ---------------------\n",
      "True        Down  Up\n",
      "Prediction          \n",
      "Down          77  97\n",
      "Up            34  44\n"
     ]
    }
   ],
   "source": [
    "for year in [2001, 2002, 2003, 2004, 2005]:\n",
    "    df_train = df[df.Year != year]  # validation set\n",
    "    df_test = df[df.Year == year]  # training set\n",
    "\n",
    "    X_train = sm.add_constant(df_train[['Lag1', 'Lag2', 'Lag3', 'Lag4', 'Lag5', 'Volume']])\n",
    "    y = df_train['Direction2']\n",
    "    est = smf.Logit(y, X_train).fit()\n",
    "    est.summary2().tables[1]\n",
    "\n",
    "    X_test = sm.add_constant(df_test[['Lag1', 'Lag2', 'Lag3', 'Lag4', 'Lag5', 'Volume']])\n",
    "    pred_y = est.predict(X_test)\n",
    "\n",
    "    df_test['pred_Direction2'] = pred_y\n",
    "    df_test['pred_Direction'] = 'Down'\n",
    "    df_test.loc[df_test.pred_Direction2 > .5, 'pred_Direction'] = 'Up'\n",
    "\n",
    "    df_ = pd.DataFrame({'True': df_test.Direction,\n",
    "                        'Prediction': df_test.pred_Direction})\n",
    "    \n",
    "    print('--------------------- validation == ' + str(year) + ' ---------------------')\n",
    "    print(df_.groupby(['Prediction','True']).size().unstack('True'))"
   ]
  },
  {
   "cell_type": "markdown",
   "metadata": {},
   "source": [
    "## PCA"
   ]
  },
  {
   "cell_type": "code",
   "execution_count": 4,
   "metadata": {
    "scrolled": false
   },
   "outputs": [
    {
     "name": "stdout",
     "output_type": "stream",
     "text": [
      "    Lag1   Lag2   Lag3   Lag4   Lag5  Volume\n",
      "0  0.381 -0.192 -2.624 -1.055  5.010  1.1913\n",
      "1  0.959  0.381 -0.192 -2.624 -1.055  1.2965\n",
      "2  1.032  0.959  0.381 -0.192 -2.624  1.4112\n",
      "3 -0.623  1.032  0.959  0.381 -0.192  1.2760\n",
      "4  0.614 -0.623  1.032  0.959  0.381  1.2057\n",
      "[[ 0.3320575  -0.17249056 -2.30680609 -0.92824314  4.36267914 -0.79676487]\n",
      " [ 0.8409301   0.33198828 -0.17018796 -2.30659244 -0.92460799 -0.50471538]\n",
      " [ 0.90519947  0.84086919  0.33321755 -0.1701071  -2.29241566 -0.1862926 ]\n",
      " [-0.55186652  0.90513962  0.84101577  0.33326711 -0.17227019 -0.56162617]\n",
      " [ 0.53719126 -0.5519502   0.90514946  0.84103378  0.32725422 -0.75678852]]\n",
      "(6, 6)\n"
     ]
    },
    {
     "data": {
      "text/html": [
       "<div>\n",
       "<table border=\"1\" class=\"dataframe\">\n",
       "  <thead>\n",
       "    <tr style=\"text-align: right;\">\n",
       "      <th></th>\n",
       "      <th>0</th>\n",
       "      <th>1</th>\n",
       "      <th>2</th>\n",
       "      <th>3</th>\n",
       "      <th>4</th>\n",
       "      <th>5</th>\n",
       "    </tr>\n",
       "  </thead>\n",
       "  <tbody>\n",
       "    <tr>\n",
       "      <th>0</th>\n",
       "      <td>0.486968</td>\n",
       "      <td>-0.138047</td>\n",
       "      <td>0.152076</td>\n",
       "      <td>-0.177786</td>\n",
       "      <td>-0.828174</td>\n",
       "      <td>-0.056556</td>\n",
       "    </tr>\n",
       "    <tr>\n",
       "      <th>1</th>\n",
       "      <td>-0.402710</td>\n",
       "      <td>0.460867</td>\n",
       "      <td>0.190891</td>\n",
       "      <td>0.525937</td>\n",
       "      <td>-0.416889</td>\n",
       "      <td>0.372264</td>\n",
       "    </tr>\n",
       "    <tr>\n",
       "      <th>2</th>\n",
       "      <td>-0.183139</td>\n",
       "      <td>-0.492161</td>\n",
       "      <td>-0.691517</td>\n",
       "      <td>0.066810</td>\n",
       "      <td>-0.197703</td>\n",
       "      <td>0.449991</td>\n",
       "    </tr>\n",
       "    <tr>\n",
       "      <th>3</th>\n",
       "      <td>-0.283882</td>\n",
       "      <td>-0.433932</td>\n",
       "      <td>0.631923</td>\n",
       "      <td>-0.341495</td>\n",
       "      <td>0.063376</td>\n",
       "      <td>0.459513</td>\n",
       "    </tr>\n",
       "    <tr>\n",
       "      <th>4</th>\n",
       "      <td>-0.063266</td>\n",
       "      <td>0.571114</td>\n",
       "      <td>-0.244079</td>\n",
       "      <td>-0.715494</td>\n",
       "      <td>-0.044815</td>\n",
       "      <td>0.310342</td>\n",
       "    </tr>\n",
       "  </tbody>\n",
       "</table>\n",
       "</div>"
      ],
      "text/plain": [
       "          0         1         2         3         4         5\n",
       "0  0.486968 -0.138047  0.152076 -0.177786 -0.828174 -0.056556\n",
       "1 -0.402710  0.460867  0.190891  0.525937 -0.416889  0.372264\n",
       "2 -0.183139 -0.492161 -0.691517  0.066810 -0.197703  0.449991\n",
       "3 -0.283882 -0.433932  0.631923 -0.341495  0.063376  0.459513\n",
       "4 -0.063266  0.571114 -0.244079 -0.715494 -0.044815  0.310342"
      ]
     },
     "execution_count": 4,
     "metadata": {},
     "output_type": "execute_result"
    }
   ],
   "source": [
    "X = df.ix[:, 2:8]  # get useful variables only\n",
    "\n",
    "pca = PCA()\n",
    "X_reduced = pca.fit_transform(scale(X))\n",
    "\n",
    "print(X.head())\n",
    "print(scale(X)[0:5,:])\n",
    "print(pca.components_.shape)\n",
    "pd.DataFrame(pca.components_.T).loc[:4,:5]"
   ]
  },
  {
   "cell_type": "code",
   "execution_count": 5,
   "metadata": {},
   "outputs": [
    {
     "name": "stdout",
     "output_type": "stream",
     "text": [
      "(1250, 6)\n"
     ]
    },
    {
     "data": {
      "text/html": [
       "<div>\n",
       "<table border=\"1\" class=\"dataframe\">\n",
       "  <thead>\n",
       "    <tr style=\"text-align: right;\">\n",
       "      <th></th>\n",
       "      <th>0</th>\n",
       "      <th>1</th>\n",
       "      <th>2</th>\n",
       "      <th>3</th>\n",
       "      <th>4</th>\n",
       "      <th>5</th>\n",
       "    </tr>\n",
       "  </thead>\n",
       "  <tbody>\n",
       "    <tr>\n",
       "      <th>0</th>\n",
       "      <td>0.087650</td>\n",
       "      <td>3.817617</td>\n",
       "      <td>-0.084670</td>\n",
       "      <td>-3.301504</td>\n",
       "      <td>-0.247235</td>\n",
       "      <td>-0.663855</td>\n",
       "    </tr>\n",
       "    <tr>\n",
       "      <th>1</th>\n",
       "      <td>0.669669</td>\n",
       "      <td>0.538570</td>\n",
       "      <td>-0.952118</td>\n",
       "      <td>1.340617</td>\n",
       "      <td>-1.061683</td>\n",
       "      <td>-1.645261</td>\n",
       "    </tr>\n",
       "    <tr>\n",
       "      <th>2</th>\n",
       "      <td>0.105064</td>\n",
       "      <td>-1.157126</td>\n",
       "      <td>0.509023</td>\n",
       "      <td>1.956714</td>\n",
       "      <td>-1.131622</td>\n",
       "      <td>-0.487761</td>\n",
       "    </tr>\n",
       "    <tr>\n",
       "      <th>3</th>\n",
       "      <td>-1.261123</td>\n",
       "      <td>-0.224732</td>\n",
       "      <td>-0.272512</td>\n",
       "      <td>0.503648</td>\n",
       "      <td>-0.231037</td>\n",
       "      <td>0.514852</td>\n",
       "    </tr>\n",
       "    <tr>\n",
       "      <th>4</th>\n",
       "      <td>-0.467068</td>\n",
       "      <td>-1.034461</td>\n",
       "      <td>-0.241714</td>\n",
       "      <td>-1.030142</td>\n",
       "      <td>-0.588630</td>\n",
       "      <td>0.212872</td>\n",
       "    </tr>\n",
       "  </tbody>\n",
       "</table>\n",
       "</div>"
      ],
      "text/plain": [
       "          0         1         2         3         4         5\n",
       "0  0.087650  3.817617 -0.084670 -3.301504 -0.247235 -0.663855\n",
       "1  0.669669  0.538570 -0.952118  1.340617 -1.061683 -1.645261\n",
       "2  0.105064 -1.157126  0.509023  1.956714 -1.131622 -0.487761\n",
       "3 -1.261123 -0.224732 -0.272512  0.503648 -0.231037  0.514852\n",
       "4 -0.467068 -1.034461 -0.241714 -1.030142 -0.588630  0.212872"
      ]
     },
     "execution_count": 5,
     "metadata": {},
     "output_type": "execute_result"
    }
   ],
   "source": [
    "# transformed data (Z)\n",
    "print(X_reduced.shape)\n",
    "pd.DataFrame(X_reduced).loc[:4,:5]"
   ]
  },
  {
   "cell_type": "code",
   "execution_count": 6,
   "metadata": {},
   "outputs": [
    {
     "data": {
      "text/plain": [
       "array([ 18.11,  35.29,  52.43,  69.05,  85.2 ,  99.99])"
      ]
     },
     "execution_count": 6,
     "metadata": {},
     "output_type": "execute_result"
    }
   ],
   "source": [
    "# Variance explained by the principal components\n",
    "np.cumsum(np.round(pca.explained_variance_ratio_, decimals=4)*100)"
   ]
  },
  {
   "cell_type": "markdown",
   "metadata": {},
   "source": [
    "## Random forests"
   ]
  },
  {
   "cell_type": "code",
   "execution_count": 7,
   "metadata": {
    "collapsed": true
   },
   "outputs": [],
   "source": [
    "# divide data into train and test\n",
    "df_train = df[df.Year < 2005]\n",
    "df_test = df[df.Year >= 2005]\n",
    "\n",
    "X_train = df_train.ix[:, 2:8]\n",
    "X_test = df_test.ix[:, 2:8]\n",
    "y_train = df_train.ix[:, 10]\n",
    "y_test = df_test.ix[:, 10]"
   ]
  },
  {
   "cell_type": "code",
   "execution_count": 8,
   "metadata": {},
   "outputs": [],
   "source": [
    "# Bagging: using all features\n",
    "regr1 = RandomForestRegressor(max_features=6, random_state=1)\n",
    "regr1.fit(X_train, y_train)\n",
    "pred = regr1.predict(X_test)"
   ]
  },
  {
   "cell_type": "code",
   "execution_count": 9,
   "metadata": {},
   "outputs": [
    {
     "name": "stdout",
     "output_type": "stream",
     "text": [
      "accuracy\n",
      "0.468253968254\n"
     ]
    }
   ],
   "source": [
    "result = pd.DataFrame(y_test)\n",
    "result['pred_Direction2'] = pred\n",
    "\n",
    "result.loc[result.pred_Direction2 > .5, 'pred_Direction2'] = 1\n",
    "result.loc[result.pred_Direction2 <= .5, 'pred_Direction2'] = 0\n",
    "\n",
    "result['correct'] = 0\n",
    "result.loc[result.pred_Direction2 == result.Direction2, 'correct'] = 1\n",
    "\n",
    "print('accuracy')\n",
    "print(result['correct'].sum() / float(result.shape[0]))"
   ]
  },
  {
   "cell_type": "code",
   "execution_count": 10,
   "metadata": {},
   "outputs": [
    {
     "data": {
      "text/plain": [
       "<matplotlib.text.Text at 0x7f979a721090>"
      ]
     },
     "execution_count": 10,
     "metadata": {},
     "output_type": "execute_result"
    },
    {
     "data": {
      "image/png": "[encoded data removed]",
      "text/plain": [
       "<matplotlib.figure.Figure at 0x7f979a728810>"
      ]
     },
     "metadata": {},
     "output_type": "display_data"
    }
   ],
   "source": [
    "plt.scatter(pred, y_test, label='medv')\n",
    "plt.plot([0, 1], [0, 1], '--k', transform=plt.gca().transAxes)\n",
    "plt.xlabel('pred')\n",
    "plt.ylabel('y_test')"
   ]
  },
  {
   "cell_type": "code",
   "execution_count": 11,
   "metadata": {},
   "outputs": [
    {
     "data": {
      "image/png": "[encoded data removed]",
      "text/plain": [
       "<matplotlib.figure.Figure at 0x7f979a5d5d50>"
      ]
     },
     "metadata": {},
     "output_type": "display_data"
    }
   ],
   "source": [
    "Importance = pd.DataFrame({'Importance':regr1.feature_importances_*100}, index=X.columns)\n",
    "Importance.sort_values('Importance', axis=0, ascending=True).plot(kind='barh', color='r', )\n",
    "plt.xlabel('Variable Importance')\n",
    "plt.gca().legend_ = None"
   ]
  },
  {
   "cell_type": "markdown",
   "metadata": {},
   "source": [
    "## Boosting"
   ]
  },
  {
   "cell_type": "code",
   "execution_count": 12,
   "metadata": {},
   "outputs": [],
   "source": [
    "# divide data into train and test\n",
    "df_train = df[df.Year < 2005]\n",
    "df_test = df[df.Year >= 2005]\n",
    "\n",
    "regr = GradientBoostingRegressor(n_estimators=500, learning_rate=0.01, random_state=1)\n",
    "regr.fit(X_train, y_train)\n",
    "pred = regr.predict(X_test)"
   ]
  },
  {
   "cell_type": "code",
   "execution_count": 13,
   "metadata": {},
   "outputs": [
    {
     "name": "stdout",
     "output_type": "stream",
     "text": [
      "accuracy\n",
      "0.5\n"
     ]
    }
   ],
   "source": [
    "result = pd.DataFrame(y_test)\n",
    "result['pred_Direction2'] = pred\n",
    "\n",
    "result.loc[result.pred_Direction2 > .5, 'pred_Direction2'] = 1\n",
    "result.loc[result.pred_Direction2 <= .5, 'pred_Direction2'] = 0\n",
    "\n",
    "result['correct'] = 0\n",
    "result.loc[result.pred_Direction2 == result.Direction2, 'correct'] = 1\n",
    "\n",
    "print('accuracy')\n",
    "print(result['correct'].sum() / float(result.shape[0]))"
   ]
  },
  {
   "cell_type": "code",
   "execution_count": 14,
   "metadata": {},
   "outputs": [
    {
     "name": "stdout",
     "output_type": "stream",
     "text": [
      "Lag3       8.604152\n",
      "Lag5      12.913437\n",
      "Lag4      14.974953\n",
      "Lag1      17.874380\n",
      "Volume    21.555041\n",
      "Lag2      24.078036\n",
      "dtype: float64\n"
     ]
    },
    {
     "data": {
      "image/png": "[encoded data removed]",
      "text/plain": [
       "<matplotlib.figure.Figure at 0x7f979a4d7f50>"
      ]
     },
     "metadata": {},
     "output_type": "display_data"
    }
   ],
   "source": [
    "feature_importance = regr.feature_importances_*100\n",
    "rel_imp = pd.Series(feature_importance, index=X.columns).sort_values(inplace=False)\n",
    "print(rel_imp)\n",
    "rel_imp.T.plot(kind='barh', color='r', )\n",
    "plt.xlabel('Variable Importance')\n",
    "plt.gca().legend_ = None"
   ]
  }
 ],
 "metadata": {
  "kernelspec": {
   "display_name": "Python 2",
   "language": "python",
   "name": "python2"
  },
  "language_info": {
   "codemirror_mode": {
    "name": "ipython",
    "version": 2.0
   },
   "file_extension": ".py",
   "mimetype": "text/x-python",
   "name": "python",
   "nbconvert_exporter": "python",
   "pygments_lexer": "ipython2",
   "version": "2.7.12"
  }
 },
 "nbformat": 4,
 "nbformat_minor": 0
}